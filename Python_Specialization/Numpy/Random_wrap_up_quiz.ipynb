{
 "cells": [
  {
   "cell_type": "markdown",
   "source": [
    "# Week 4 Assessment\n",
    "\n",
    "Questions 1-3 are conceptual questions that you can find in the Week 4 quiz. The exercises here will start on Question 4"
   ],
   "metadata": {},
   "attachments": {}
  },
  {
   "cell_type": "markdown",
   "source": [
    "## Practical Exercises\n",
    "\n",
    "### Questions 4 and 5: Random number generation\n",
    "\n",
    "You are given the function below, `gen_random_number`, which is a random number generator from a very specific distribution (the nature of that distribution is not relevant here). You don't know what the data look like, but you want to summarize them in some way, in this case by **finding the mean and standard deviation**. You'll need a lot of samples to get a good estimate, so make sure you use at least one million."
   ],
   "metadata": {},
   "attachments": {}
  },
  {
   "cell_type": "code",
   "execution_count": 21,
   "source": [
    "import numpy as np\n",
    "def gen_random_number(n):\n",
    "    data =  np.random.gamma(shape=0.5,scale=1.3,size=n)\n",
    "    print(np.mean(data))\n",
    "    print(np.std(data))\n",
    "gen_random_number(1000000)    "
   ],
   "outputs": [
    {
     "output_type": "stream",
     "name": "stdout",
     "text": [
      "0.6508816201464548\n",
      "0.920625549653646\n"
     ]
    }
   ],
   "metadata": {}
  },
  {
   "cell_type": "markdown",
   "source": [
    "### Questions 6 and 7: Filtering and querying a dataset"
   ],
   "metadata": {},
   "attachments": {}
  },
  {
   "cell_type": "markdown",
   "source": [
    "In data science we frequently need to filter data as we've previously discussed: remove missing or anomalous values, remove predictors/features from a dataset, remove redundant values, etc. Additionally, we often want to query the data, exploring subsets of the larger dataset that meet certain criteria. We'll see later in this specialization that Pandas offers many excellent tools for doing that, but they're based on principles we've discussed here around matrix and vector operations. We've also discussed summarization strategies in this course. Let's bring all of these pieces together and create some tools for filtering and querying our data.\n",
    "\n",
    "The goal of this exercise is to create a set of functions that can:\n",
    "1. Remove data from a dataset that are greater than a certain value\n",
    "2. Remove data from a dataset that are less than a certain value\n",
    "3. Remove specific values from a dataset\n",
    "4. Remove duplicate values in a dataset\n",
    "\n",
    "Once we have the functions to accomplish this, we'll apply this to a dataset.\n",
    "\n",
    "The first step is to create the functions. To help get you started, some skeleton code is provided below (replace \"pass\" with your code to construct the functions):"
   ],
   "metadata": {},
   "attachments": {}
  },
  {
   "cell_type": "code",
   "execution_count": 22,
   "source": [
    "def remove_greater_than(array, threshold):\n",
    "    return array[array <= threshold]\n",
    "\n",
    "def remove_less_than(array, threshold):        \n",
    "    return array[array >= threshold]\n",
    "\n",
    "def remove_if_equal(array, value_list):\n",
    "    return array[~np.isin(array, value_list)]\n",
    "\n",
    "def remove_duplicates(array):\n",
    "    return np.unique(array)"
   ],
   "outputs": [],
   "metadata": {}
  },
  {
   "cell_type": "markdown",
   "source": [
    "Once you have built your functions to filter the data. Generate tests to verify that each function is working properly.\n",
    "\n",
    "Now it's time to apply your function. The dataset that we will use will be a set of integer values ranging from 1 to 1000 (the code is provided below - do NOT change the random seed). "
   ],
   "metadata": {},
   "attachments": {}
  },
  {
   "cell_type": "code",
   "execution_count": 23,
   "source": [
    "import numpy as np\n",
    "np.random.seed(14)\n",
    "random_integers = np.random.randint(1,high=1000, size=(500))\n",
    "\n",
    "print(random_integers[:100])"
   ],
   "outputs": [
    {
     "output_type": "stream",
     "name": "stdout",
     "text": [
      "[620 345 269 407 328 762 359 747 669 651 209 574 489 878 667  26 472 492\n",
      " 545 261 974 139 651 513 471  85 134 550 633 102  42 745 232 580 720 325\n",
      " 974 174 380 249 786 764 897 160 778 188  28 219 812 759 258 893 328 105\n",
      " 704 907  46 752  31 916 578  58 588 206 338 358 782 953 336 682 640 278\n",
      " 526 324  62 331 751 442 463 605 239 957 522 335 389 179 657 486 565 258\n",
      " 140 997 882 388 866  13 925 854 489 402]\n"
     ]
    }
   ],
   "metadata": {}
  },
  {
   "cell_type": "code",
   "execution_count": 24,
   "source": [
    "x = np.mean(random_integers)\n",
    "y = np.median(random_integers)\n",
    "print(round(x, 4))\n",
    "print(round(y, 4))"
   ],
   "outputs": [
    {
     "output_type": "stream",
     "name": "stdout",
     "text": [
      "495.832\n",
      "489.0\n"
     ]
    }
   ],
   "metadata": {}
  },
  {
   "cell_type": "markdown",
   "source": [
    "We strongly encourage you to test your code for each of the above four functions on a simple example. For example, when testing the `remove_greater_than()` function, you could input an array `[1,2,20,21,20000]` with a threshold of 20 and verify that the resulting output is `[1,2,20]`.\n",
    "\n",
    "Once you are confident in your function, your goal is to filter the data in the following ways:\n",
    "1. Remove values greater than 800\n",
    "2. Remove values less than 25\n",
    "3. Remove values equal to even integers\n",
    "4. Remove all duplicates\n",
    "\n",
    "Lastly, summarize the remaining data after your filtering is complete by computing the **mean and median** of the remaining data."
   ],
   "metadata": {},
   "attachments": {}
  },
  {
   "cell_type": "code",
   "execution_count": 25,
   "source": [
    "filtered_data = remove_greater_than(random_integers, 800)\n",
    "filtered_data = remove_less_than(filtered_data, 25)\n",
    "filtered_data = remove_if_equal(filtered_data, np.arange(0, 1000, 2))\n",
    "filtered_data = remove_duplicates(filtered_data)"
   ],
   "outputs": [],
   "metadata": {}
  },
  {
   "cell_type": "code",
   "execution_count": 27,
   "source": [
    "x = np.mean(filtered_data)\n",
    "y = np.median(filtered_data)\n",
    "print(round(x, 4))\n",
    "print(round(y, 4))"
   ],
   "outputs": [
    {
     "output_type": "stream",
     "name": "stdout",
     "text": [
      "425.0784\n",
      "423.0\n"
     ]
    }
   ],
   "metadata": {}
  },
  {
   "cell_type": "markdown",
   "source": [
    "Once you're confident in your solution, head back to the Week 4 Quiz to enter your solutions for the exercises above and answer some conceptual questions about this chapter."
   ],
   "metadata": {},
   "attachments": {}
  }
 ],
 "metadata": {
  "kernelspec": {
   "name": "python3",
   "display_name": "Python 3.9.12 64-bit ('base': conda)"
  },
  "language_info": {
   "codemirror_mode": {
    "name": "ipython",
    "version": 3
   },
   "file_extension": ".py",
   "mimetype": "text/x-python",
   "name": "python",
   "nbconvert_exporter": "python",
   "pygments_lexer": "ipython3",
   "version": "3.9.12"
  },
  "orig_nbformat": 4,
  "vscode": {
   "interpreter": {
    "hash": "f54e0b9f92ceb50229b3b7ea26b5d02f05ce8845dd8d997c014a0efede4c9c20"
   }
  },
  "interpreter": {
   "hash": "4b1666d24beef1f2cf032edae7ba7886b51d32e24219515f10ba647092308838"
  }
 },
 "nbformat": 4,
 "nbformat_minor": 2
}