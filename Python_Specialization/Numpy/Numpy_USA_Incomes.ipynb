{
    "cells": [
        {
            "cell_type": "markdown",
            "source": [
                "# Week 2 Numpy Re-cap Exercises\n",
                "\n",
                "**Note**: \n",
                "\n",
                "> This exercise has been written out in something called a Jupyter Notebook. We'll discuss Jupyter Notebooks in more detail later in the course—they are very a powerful tool for data science communication!—but for the time being, the notebook is just a convenient way for us to write out the exercise. You don't need to *do* anything with the notebook except read its contents—just use write your Python code in a regular `.py` file.\n",
                "## Income Inequality\n",
                "\n",
                "In these exercises, we will return to the vector with estimates of the total income (from all sources) of a random sample of American households collected by the U.S. Census Bureau between 2015 and 2019 as part of the American Community Survey (ACS).\n",
                "\n",
                "(As before, apologies to people who are not from the United States -- most of our users come from the US, so picking the United States seemed like the least bad option. However, if you are interested in completing these same exercises for your own country, head over to [IPUMS International](https://international.ipums.org/international/) to see if analogous income data has been made available by your country's Census Bureau. Simply click on the \"Browse Data\" button, then \"Select Sample\" in the top left to find the most recent data available for your country. Then see if you can find income data under the \"Select Harmonized Variables\" \"PERSON\" or \"HOUSEHOLD\" drop-down menus. Note that income data is hard to collect, so it's probably not available for most countries.)\n",
                "\n",
                "In particular, we are going to use this data to measure household income inequality in the United States, then analyze how that income inequality might change under a range of different tax policies.\n",
                "\n",
                "### Exercise 1\n",
                "\n",
                "Use the command `np.loadtxt(\"data/us_household_incomes.txt\")` to load the vector of incomes, and make sure to assign the result of that command to a new variable.\n",
                "\n",
                "\n",
                "### Exercise 2\n",
                "\n",
                "In a previous reading, we saw that plotting a histogram of US household incomes was difficult because must of the plot was taken up by very high earners. Now that we know how to subset our data, create a histogram of US household incomes that includes only households making less than $500,000. For these households—the non-millionaires—do we see a more uniform distribution of incomes? Or is there still a significant [right-skew / positive-skew](https://en.wikipedia.org/wiki/Skewness) (most people are on the left of the distribution, but there are more extreme values in the right tail) in the income distribution?\n",
                "\n",
                "In other words, is the skewness in the US income distribution driven by extreme high earners, or is it evident at all income levels?\n",
                "\n",
                "**Note:** The x-axis' will range will be determined by the data, with the x-axis being made long enough to include ALL data (but no longer). As a result, there *are* observations across the x-axis, even if there are too few for the bar to be visible.\n",
                "\n",
                "**Note:** Be aware that this data only measures *income*—e.g., wages, salaries, etc. As a result, it actually massively underestimates incomes at the top of the United States income distribution because most of the income for high earners comes in the form of capital gains and investment appreciation which are not included here.\n",
                "\n",
                "### Exercise 3\n",
                "\n",
                "The US poverty line is *about* 20,000 dollars a year. What share of households in these data fall below the US poverty line? (By \"share\" I mean the proportion, a value between 0 and 1). Round your answer to 4 decimal places. \n",
                "\n",
                "(I say \"about\" because the actual poverty line for household income depends on the number of people in the household, which we have not included in these data.)\n",
                "## Gini Index\n",
                "\n",
                "A standard measure of inequality is the [Gini Index / Gini Coefficient](https://en.wikipedia.org/wiki/Gini_coefficient). The measure takes on a value of 0 when everyone in a population has the same allocation of some resource or property, and a value of 1 when all the resource in population accrues to a single person. It is commonly used to measure income and wealth inequality, although it is also worth noting that it has been used in many other contexts, [including neuroscience.](https://neuroplausible.com/gini) \n",
                "\n",
                "For discrete data, the definition of the Gini Index is given below:\n",
                "\n",
                "$$Gini\\ Index = \\frac{2 \\sum_{i=1}^n i y_i}{n \\sum_{i=1}^n y_i} -\\frac{n+1}{n}$$\n",
                "\n",
                "Where $i$ is each observations' rank ordering from those with the fewest resources to those with the most, and $y_i$ is the resources of observation $i$. \n",
                "\n",
                "In an upcoming exercise, you will be asked to code this up yourself in a few different ways, but as that is not the focus of *this* exercise, you can just use the `gini()` function from the `ineqpy` package. You can install it with `pip install ineqpy` (it's a little too small of a package to appear in the conda repositories) and import with `from ineqpy.inequality import gini`.\n",
                "### Exercise 4\n",
                "\n",
                "Using the `gini()` function above, calculate the Gini Index of income inequality in the US.\n",
                "\n",
                "### Exercise 5\n",
                "\n",
                "Go compare your estimate to that of [other countries here.](https://www.indexmundi.com/facts/indicators/SI.POV.GINI/rankings) (Note: in this table, estimated Gini values have been multiplied 100. In addition, as a result of sampling variation, income binning, differences in the exact methods used to calculate income, year of data, availability of data on top incomes, etc., your Gini for the US will be somewhat different from the Gini for the US in this table. It *should* be close to the data from the [US Census Bureau](https://www.statista.com/statistics/219643/gini-coefficient-for-us-individuals-families-and-households/)). How does the US compare to other countries? Is that what you expected? \n",
                "   - **Note:** The Gini Index of income is only one metric of inequality! Results would be very different if we were to calculate, for example, the ratio of the income of the top 0.1% of earners to the income of the lowest-earning 10% of the population, or if we calculated this metric using wealth instead of income!\n",
                "\n",
                "\n",
                "### Exercise 6\n",
                "\n",
                "\n",
                "Congratulations! You have been hired by the President of the United States to advise them on their efforts to reduce income inequality. The first set of policies that the president has asked you to evaluate is whether income inequality would be decreased more under:\n",
                "\n",
                "- `Policy A`: giving every household that makes less than 40,000 dollars a check for 5,000 dollars, or \n",
                "- `Policy B`: giving every household that makes less than 30,000 dollars a check for 7,000 dollars. \n",
                "\n",
                "What is the new Gini under Policy A? Round your answer to 4 decimals.\n",
                "What is the new Gini under Policy B? Round your answer to 4 decimals.\n",
                "\n",
                "Which has lowered inequality more?\n",
                "\n",
                "- **Note:** Vectors are mutable (like lists), so you should create a clean copy of your income data with the `.copy()` method (e.g. `experiment1 = income_vector.copy()`) before starting to make changes during each exercise. We'll talk a lot more about vector mutability in a future reading, but so long as you use `.copy()` you will be fine here!\n",
                "\n",
                "### Exercise 7\n",
                "\n",
                "Now the president would like to know whether income inequality can be reduced more the policy you decided was preferable above, *or* through `Policy C`: applying a tax of 5% to households making more than 250,000 dollars and using the money to pay down the National Debt. \n",
                "\n",
                "(In other words, `Policy C` would reduce the income of any households earning more than 250,000 dollars by 5%.)\n",
                "\n",
                "Calculate the Gini Index resulting from the President's tax proposal? Round your answer to 4 decimals.\n",
                "### Exercise 8\n",
                "\n",
                "Now suppose we were thinking about applying a 5% tax to people making more than 250,000 dollars and *evenly distributed that tax revenue* to households earning less than 30,000 dollars. Call this `Policy D`. \n",
                "\n",
                "To estimate the effective such a policy on inequality, first calculate the total amount of money that would be generated by this tax if the households in this data were all households in the US. Round your answer to two decimal places.\n",
                "  \n",
                "**Note:** because these data are just a *sample* of households in the US, the quantity you calculate isn't the actual revenue such a tax would generate in the real world; if you want to calculate the real amount that would be raised, you can multiply the quantity you calculate by 137 (our data include about 1 out of every 137 households in the US). Don't do that multiplication to generate your answer here—as we'll see below that isn't necessary for the analysis we want to undertake.\n",
                "\n",
                "### Exercise 9\n",
                "\n",
                "Now calculate the total number of households earning less than 30,000 dollars in these data, and divide the revenue generated by the tax by the number of households earning less than 30,000 dollars. Round your answer to one decimal place.\n",
                "\n",
                "**Note:** unlike in Exercise 8, the quantity you estimate here *is* a good estimate of the amount of money that would be available for each household if we imposed this tax on the real world. Why? Because both the quantity you estimated in Question 8 *and* the number of households you calculate here represent 1/137th the actual, real world quantities in the United States. So when you divide one by the other, you get the true ratio -- the fact that both are 1/137th the real quality cancels out!\n",
                "\n",
                "### Exercise 10\n",
                "\n",
                "Finally, update the incomes in our data *as if* we had enacted this policy -- reduce the incomes of households earning more than 250,000 dollars by 5% and increase the incomes of households earning less than 30,000 dollars by the quantity you estimated in Question 8. \n",
                "\n",
                "What is the resulting Gini Index of `Policy D`? Round your answer to 4 decimal places.\n",
                "\n",
                "### Exercise 11\n",
                "\n",
                "Now suppose we also wanted to explore a slightly different intervention: `Policy E`. In `Policy E`, we would distribute the revenue generated with the same tax, but this time we would distribute it evenly to all households earning less than 40,000 dollars (instead of less than 30,000 dollars). \n",
                "\n",
                "What is the resulting Gini Index of `Policy E`? Round your answer to 4 decimal places.\n",
                "\n",
                "### Exercise 12\n",
                "\n",
                "\n",
                "If the President asked you whether you could better reduce inequality (as measured by the Gini Index) by re-distributing the tax revenue from taxing households earning more than 250,000 dollars even to households earning less than 30,000 dollars (`Policy D`) or households earning less than 40,000 dollars (`Policy E`), which would you recommend?\n",
                "### Data Citation\n",
                "\n",
                "The ACS data used in this exercise are a subsample of the IPUMS USA data available from [usa.ipums.org.](usa.ipums.org)\n",
                "\n",
                "Please cite use of the data as follows: Steven Ruggles, Sarah Flood, Sophia Foster, Ronald Goeken, Jose Pacas, Megan Schouweiler and Matthew Sobek. IPUMS USA: Version 11.0 [dataset]. Minneapolis, MN: IPUMS, 2021. https://doi.org/10.18128/D010.V11.0\n",
                "\n",
                "These data are intended for this exercise only. Individuals analyzing the data for other purposes must submit a separate data extract request directly via IPUMS USA.\n",
                "\n",
                "Individuals are not to redistribute the data without permission. Contact ipums@umn.edu for redistribution requests."
            ],
            "metadata": {}
        },
        {
            "cell_type": "code",
            "execution_count": 1,
            "source": [
                "import numpy as np\n",
                "import matplotlib.pyplot as plt"
            ],
            "outputs": [],
            "metadata": {}
        },
        {
            "cell_type": "code",
            "execution_count": 2,
            "source": [
                "data = np.loadtxt('data/us_household_incomes.txt')"
            ],
            "outputs": [],
            "metadata": {}
        },
        {
            "cell_type": "code",
            "execution_count": 3,
            "source": [
                "data"
            ],
            "outputs": [
                {
                    "output_type": "execute_result",
                    "data": {
                        "text/plain": [
                            "array([ 53308., 102050., 192994., ..., 407460.,  19856., 154754.])"
                        ]
                    },
                    "metadata": {},
                    "execution_count": 3
                }
            ],
            "metadata": {}
        },
        {
            "cell_type": "code",
            "execution_count": 4,
            "source": [
                "len(data)"
            ],
            "outputs": [
                {
                    "output_type": "execute_result",
                    "data": {
                        "text/plain": [
                            "933695"
                        ]
                    },
                    "metadata": {},
                    "execution_count": 4
                }
            ],
            "metadata": {}
        },
        {
            "cell_type": "code",
            "execution_count": 5,
            "source": [
                "plt.hist(data[data <= 500000])"
            ],
            "outputs": [
                {
                    "output_type": "execute_result",
                    "data": {
                        "text/plain": [
                            "(array([262193., 338719., 173616.,  76579.,  33854.,  16134.,   8329.,\n",
                            "          5401.,   4556.,   4060.]),\n",
                            " array([-16942. ,  34752.2,  86446.4, 138140.6, 189834.8, 241529. ,\n",
                            "        293223.2, 344917.4, 396611.6, 448305.8, 500000. ]),\n",
                            " <BarContainer object of 10 artists>)"
                        ]
                    },
                    "metadata": {},
                    "execution_count": 5
                },
                {
                    "output_type": "display_data",
                    "data": {
                        "image/png": "[encoded data removed]",
                        "image/svg+xml": "<?xml version=\"1.0\" encoding=\"utf-8\" standalone=\"no\"?>\n<!DOCTYPE svg PUBLIC \"-//W3C//DTD SVG 1.1//EN\"\n  \"http://www.w3.org/Graphics/SVG/1.1/DTD/svg11.dtd\">\n<svg xmlns:xlink=\"http://www.w3.org/1999/xlink\" width=\"398.244318pt\" height=\"248.860026pt\" viewBox=\"0 0 398.244318 248.860026\" xmlns=\"http://www.w3.org/2000/svg\" version=\"1.1\">\n <metadata>\n  <rdf:RDF xmlns:dc=\"http://purl.org/dc/elements/1.1/\" xmlns:cc=\"http://creativecommons.org/ns#\" xmlns:rdf=\"http://www.w3.org/1999/02/22-rdf-syntax-ns#\">\n   <cc:Work>\n    <dc:type rdf:resource=\"http://purl.org/dc/dcmitype/StillImage\"/>\n    <dc:date>2024-04-17T00:50:54.560031</dc:date>\n    <dc:format>image/svg+xml</dc:format>\n    <dc:creator>\n     <cc:Agent>\n      <dc:title>Matplotlib v3.5.1, https://matplotlib.org/</dc:title>\n     </cc:Agent>\n    </dc:creator>\n   </cc:Work>\n  </rdf:RDF>\n </metadata>\n <defs>\n  <style type=\"text/css\">*{stroke-linejoin: round; stroke-linecap: butt}</style>\n </defs>\n <g id=\"figure_1\">\n  <g id=\"patch_1\">\n   <path d=\"M 0 248.860026 \nL 398.244318 248.860026 \nL 398.244318 0 \nL 0 0 \nL 0 248.860026 \nz\n\" style=\"fill: none\"/>\n  </g>\n  <g id=\"axes_1\">\n   <g id=\"patch_2\">\n    <path d=\"M 52.375 224.981901 \nL 387.175 224.981901 \nL 387.175 7.541901 \nL 52.375 7.541901 \nz\n\" style=\"fill: #ffffff\"/>\n   </g>\n   <g id=\"patch_3\">\n    <path d=\"M 67.593182 224.981901 \nL 98.029545 224.981901 \nL 98.029545 64.682583 \nL 67.593182 64.682583 \nz\n\" clip-path=\"url(#pf86dfc2dd0)\" style=\"fill: #1f77b4\"/>\n   </g>\n   <g id=\"patch_4\">\n    <path d=\"M 98.029545 224.981901 \nL 128.465909 224.981901 \nL 128.465909 17.896186 \nL 98.029545 17.896186 \nz\n\" clip-path=\"url(#pf86dfc2dd0)\" style=\"fill: #1f77b4\"/>\n   </g>\n   <g id=\"patch_5\">\n    <path d=\"M 128.465909 224.981901 \nL 158.902273 224.981901 \nL 158.902273 118.836708 \nL 128.465909 118.836708 \nz\n\" clip-path=\"url(#pf86dfc2dd0)\" style=\"fill: #1f77b4\"/>\n   </g>\n   <g id=\"patch_6\">\n    <path d=\"M 158.902273 224.981901 \nL 189.338636 224.981901 \nL 189.338636 178.163101 \nL 158.902273 178.163101 \nz\n\" clip-path=\"url(#pf86dfc2dd0)\" style=\"fill: #1f77b4\"/>\n   </g>\n   <g id=\"patch_7\">\n    <path d=\"M 189.338636 224.981901 \nL 219.775 224.981901 \nL 219.775 204.284273 \nL 189.338636 204.284273 \nz\n\" clip-path=\"url(#pf86dfc2dd0)\" style=\"fill: #1f77b4\"/>\n   </g>\n   <g id=\"patch_8\">\n    <path d=\"M 219.775 224.981901 \nL 250.211364 224.981901 \nL 250.211364 215.11791 \nL 219.775 215.11791 \nz\n\" clip-path=\"url(#pf86dfc2dd0)\" style=\"fill: #1f77b4\"/>\n   </g>\n   <g id=\"patch_9\">\n    <path d=\"M 250.211364 224.981901 \nL 280.647727 224.981901 \nL 280.647727 219.889724 \nL 250.211364 219.889724 \nz\n\" clip-path=\"url(#pf86dfc2dd0)\" style=\"fill: #1f77b4\"/>\n   </g>\n   <g id=\"patch_10\">\n    <path d=\"M 280.647727 224.981901 \nL 311.084091 224.981901 \nL 311.084091 221.679842 \nL 280.647727 221.679842 \nz\n\" clip-path=\"url(#pf86dfc2dd0)\" style=\"fill: #1f77b4\"/>\n   </g>\n   <g id=\"patch_11\">\n    <path d=\"M 311.084091 224.981901 \nL 341.520455 224.981901 \nL 341.520455 222.196457 \nL 311.084091 222.196457 \nz\n\" clip-path=\"url(#pf86dfc2dd0)\" style=\"fill: #1f77b4\"/>\n   </g>\n   <g id=\"patch_12\">\n    <path d=\"M 341.520455 224.981901 \nL 371.956818 224.981901 \nL 371.956818 222.499701 \nL 341.520455 222.499701 \nz\n\" clip-path=\"url(#pf86dfc2dd0)\" style=\"fill: #1f77b4\"/>\n   </g>\n   <g id=\"matplotlib.axis_1\">\n    <g id=\"xtick_1\">\n     <g id=\"line2d_1\">\n      <defs>\n       <path id=\"mb4bbc4cdef\" d=\"M 0 0 \nL 0 3.5 \n\" style=\"stroke: #000000; stroke-width: 0.8\"/>\n      </defs>\n      <g>\n       <use xlink:href=\"#mb4bbc4cdef\" x=\"77.568244\" y=\"224.981901\" style=\"stroke: #000000; stroke-width: 0.8\"/>\n      </g>\n     </g>\n     <g id=\"text_1\">\n      <!-- 0 -->\n      <g transform=\"translate(74.386994 239.580338)scale(0.1 -0.1)\">\n       <defs>\n        <path id=\"DejaVuSans-30\" d=\"M 2034 4250 \nQ 1547 4250 1301 3770 \nQ 1056 3291 1056 2328 \nQ 1056 1369 1301 889 \nQ 1547 409 2034 409 \nQ 2525 409 2770 889 \nQ 3016 1369 3016 2328 \nQ 3016 3291 2770 3770 \nQ 2525 4250 2034 4250 \nz\nM 2034 4750 \nQ 2819 4750 3233 4129 \nQ 3647 3509 3647 2328 \nQ 3647 1150 3233 529 \nQ 2819 -91 2034 -91 \nQ 1250 -91 836 529 \nQ 422 1150 422 2328 \nQ 422 3509 836 4129 \nQ 1250 4750 2034 4750 \nz\n\" transform=\"scale(0.015625)\"/>\n       </defs>\n       <use xlink:href=\"#DejaVuSans-30\"/>\n      </g>\n     </g>\n    </g>\n    <g id=\"xtick_2\">\n     <g id=\"line2d_2\">\n      <g>\n       <use xlink:href=\"#mb4bbc4cdef\" x=\"136.445959\" y=\"224.981901\" style=\"stroke: #000000; stroke-width: 0.8\"/>\n      </g>\n     </g>\n     <g id=\"text_2\">\n      <!-- 100000 -->\n      <g transform=\"translate(117.358459 239.580338)scale(0.1 -0.1)\">\n       <defs>\n        <path id=\"DejaVuSans-31\" d=\"M 794 531 \nL 1825 531 \nL 1825 4091 \nL 703 3866 \nL 703 4441 \nL 1819 4666 \nL 2450 4666 \nL 2450 531 \nL 3481 531 \nL 3481 0 \nL 794 0 \nL 794 531 \nz\n\" transform=\"scale(0.015625)\"/>\n       </defs>\n       <use xlink:href=\"#DejaVuSans-31\"/>\n       <use xlink:href=\"#DejaVuSans-30\" x=\"63.623047\"/>\n       <use xlink:href=\"#DejaVuSans-30\" x=\"127.246094\"/>\n       <use xlink:href=\"#DejaVuSans-30\" x=\"190.869141\"/>\n       <use xlink:href=\"#DejaVuSans-30\" x=\"254.492188\"/>\n       <use xlink:href=\"#DejaVuSans-30\" x=\"318.115234\"/>\n      </g>\n     </g>\n    </g>\n    <g id=\"xtick_3\">\n     <g id=\"line2d_3\">\n      <g>\n       <use xlink:href=\"#mb4bbc4cdef\" x=\"195.323674\" y=\"224.981901\" style=\"stroke: #000000; stroke-width: 0.8\"/>\n      </g>\n     </g>\n     <g id=\"text_3\">\n      <!-- 200000 -->\n      <g transform=\"translate(176.236174 239.580338)scale(0.1 -0.1)\">\n       <defs>\n        <path id=\"DejaVuSans-32\" d=\"M 1228 531 \nL 3431 531 \nL 3431 0 \nL 469 0 \nL 469 531 \nQ 828 903 1448 1529 \nQ 2069 2156 2228 2338 \nQ 2531 2678 2651 2914 \nQ 2772 3150 2772 3378 \nQ 2772 3750 2511 3984 \nQ 2250 4219 1831 4219 \nQ 1534 4219 1204 4116 \nQ 875 4013 500 3803 \nL 500 4441 \nQ 881 4594 1212 4672 \nQ 1544 4750 1819 4750 \nQ 2544 4750 2975 4387 \nQ 3406 4025 3406 3419 \nQ 3406 3131 3298 2873 \nQ 3191 2616 2906 2266 \nQ 2828 2175 2409 1742 \nQ 1991 1309 1228 531 \nz\n\" transform=\"scale(0.015625)\"/>\n       </defs>\n       <use xlink:href=\"#DejaVuSans-32\"/>\n       <use xlink:href=\"#DejaVuSans-30\" x=\"63.623047\"/>\n       <use xlink:href=\"#DejaVuSans-30\" x=\"127.246094\"/>\n       <use xlink:href=\"#DejaVuSans-30\" x=\"190.869141\"/>\n       <use xlink:href=\"#DejaVuSans-30\" x=\"254.492188\"/>\n       <use xlink:href=\"#DejaVuSans-30\" x=\"318.115234\"/>\n      </g>\n     </g>\n    </g>\n    <g id=\"xtick_4\">\n     <g id=\"line2d_4\">\n      <g>\n       <use xlink:href=\"#mb4bbc4cdef\" x=\"254.201389\" y=\"224.981901\" style=\"stroke: #000000; stroke-width: 0.8\"/>\n      </g>\n     </g>\n     <g id=\"text_4\">\n      <!-- 300000 -->\n      <g transform=\"translate(235.113889 239.580338)scale(0.1 -0.1)\">\n       <defs>\n        <path id=\"DejaVuSans-33\" d=\"M 2597 2516 \nQ 3050 2419 3304 2112 \nQ 3559 1806 3559 1356 \nQ 3559 666 3084 287 \nQ 2609 -91 1734 -91 \nQ 1441 -91 1130 -33 \nQ 819 25 488 141 \nL 488 750 \nQ 750 597 1062 519 \nQ 1375 441 1716 441 \nQ 2309 441 2620 675 \nQ 2931 909 2931 1356 \nQ 2931 1769 2642 2001 \nQ 2353 2234 1838 2234 \nL 1294 2234 \nL 1294 2753 \nL 1863 2753 \nQ 2328 2753 2575 2939 \nQ 2822 3125 2822 3475 \nQ 2822 3834 2567 4026 \nQ 2313 4219 1838 4219 \nQ 1578 4219 1281 4162 \nQ 984 4106 628 3988 \nL 628 4550 \nQ 988 4650 1302 4700 \nQ 1616 4750 1894 4750 \nQ 2613 4750 3031 4423 \nQ 3450 4097 3450 3541 \nQ 3450 3153 3228 2886 \nQ 3006 2619 2597 2516 \nz\n\" transform=\"scale(0.015625)\"/>\n       </defs>\n       <use xlink:href=\"#DejaVuSans-33\"/>\n       <use xlink:href=\"#DejaVuSans-30\" x=\"63.623047\"/>\n       <use xlink:href=\"#DejaVuSans-30\" x=\"127.246094\"/>\n       <use xlink:href=\"#DejaVuSans-30\" x=\"190.869141\"/>\n       <use xlink:href=\"#DejaVuSans-30\" x=\"254.492188\"/>\n       <use xlink:href=\"#DejaVuSans-30\" x=\"318.115234\"/>\n      </g>\n     </g>\n    </g>\n    <g id=\"xtick_5\">\n     <g id=\"line2d_5\">\n      <g>\n       <use xlink:href=\"#mb4bbc4cdef\" x=\"313.079103\" y=\"224.981901\" style=\"stroke: #000000; stroke-width: 0.8\"/>\n      </g>\n     </g>\n     <g id=\"text_5\">\n      <!-- 400000 -->\n      <g transform=\"translate(293.991603 239.580338)scale(0.1 -0.1)\">\n       <defs>\n        <path id=\"DejaVuSans-34\" d=\"M 2419 4116 \nL 825 1625 \nL 2419 1625 \nL 2419 4116 \nz\nM 2253 4666 \nL 3047 4666 \nL 3047 1625 \nL 3713 1625 \nL 3713 1100 \nL 3047 1100 \nL 3047 0 \nL 2419 0 \nL 2419 1100 \nL 313 1100 \nL 313 1709 \nL 2253 4666 \nz\n\" transform=\"scale(0.015625)\"/>\n       </defs>\n       <use xlink:href=\"#DejaVuSans-34\"/>\n       <use xlink:href=\"#DejaVuSans-30\" x=\"63.623047\"/>\n       <use xlink:href=\"#DejaVuSans-30\" x=\"127.246094\"/>\n       <use xlink:href=\"#DejaVuSans-30\" x=\"190.869141\"/>\n       <use xlink:href=\"#DejaVuSans-30\" x=\"254.492188\"/>\n       <use xlink:href=\"#DejaVuSans-30\" x=\"318.115234\"/>\n      </g>\n     </g>\n    </g>\n    <g id=\"xtick_6\">\n     <g id=\"line2d_6\">\n      <g>\n       <use xlink:href=\"#mb4bbc4cdef\" x=\"371.956818\" y=\"224.981901\" style=\"stroke: #000000; stroke-width: 0.8\"/>\n      </g>\n     </g>\n     <g id=\"text_6\">\n      <!-- 500000 -->\n      <g transform=\"translate(352.869318 239.580338)scale(0.1 -0.1)\">\n       <defs>\n        <path id=\"DejaVuSans-35\" d=\"M 691 4666 \nL 3169 4666 \nL 3169 4134 \nL 1269 4134 \nL 1269 2991 \nQ 1406 3038 1543 3061 \nQ 1681 3084 1819 3084 \nQ 2600 3084 3056 2656 \nQ 3513 2228 3513 1497 \nQ 3513 744 3044 326 \nQ 2575 -91 1722 -91 \nQ 1428 -91 1123 -41 \nQ 819 9 494 109 \nL 494 744 \nQ 775 591 1075 516 \nQ 1375 441 1709 441 \nQ 2250 441 2565 725 \nQ 2881 1009 2881 1497 \nQ 2881 1984 2565 2268 \nQ 2250 2553 1709 2553 \nQ 1456 2553 1204 2497 \nQ 953 2441 691 2322 \nL 691 4666 \nz\n\" transform=\"scale(0.015625)\"/>\n       </defs>\n       <use xlink:href=\"#DejaVuSans-35\"/>\n       <use xlink:href=\"#DejaVuSans-30\" x=\"63.623047\"/>\n       <use xlink:href=\"#DejaVuSans-30\" x=\"127.246094\"/>\n       <use xlink:href=\"#DejaVuSans-30\" x=\"190.869141\"/>\n       <use xlink:href=\"#DejaVuSans-30\" x=\"254.492188\"/>\n       <use xlink:href=\"#DejaVuSans-30\" x=\"318.115234\"/>\n      </g>\n     </g>\n    </g>\n   </g>\n   <g id=\"matplotlib.axis_2\">\n    <g id=\"ytick_1\">\n     <g id=\"line2d_7\">\n      <defs>\n       <path id=\"m8776e47b22\" d=\"M 0 0 \nL -3.5 0 \n\" style=\"stroke: #000000; stroke-width: 0.8\"/>\n      </defs>\n      <g>\n       <use xlink:href=\"#m8776e47b22\" x=\"52.375\" y=\"224.981901\" style=\"stroke: #000000; stroke-width: 0.8\"/>\n      </g>\n     </g>\n     <g id=\"text_7\">\n      <!-- 0 -->\n      <g transform=\"translate(39.0125 228.781119)scale(0.1 -0.1)\">\n       <use xlink:href=\"#DejaVuSans-30\"/>\n      </g>\n     </g>\n    </g>\n    <g id=\"ytick_2\">\n     <g id=\"line2d_8\">\n      <g>\n       <use xlink:href=\"#m8776e47b22\" x=\"52.375\" y=\"194.412946\" style=\"stroke: #000000; stroke-width: 0.8\"/>\n      </g>\n     </g>\n     <g id=\"text_8\">\n      <!-- 50000 -->\n      <g transform=\"translate(13.5625 198.212165)scale(0.1 -0.1)\">\n       <use xlink:href=\"#DejaVuSans-35\"/>\n       <use xlink:href=\"#DejaVuSans-30\" x=\"63.623047\"/>\n       <use xlink:href=\"#DejaVuSans-30\" x=\"127.246094\"/>\n       <use xlink:href=\"#DejaVuSans-30\" x=\"190.869141\"/>\n       <use xlink:href=\"#DejaVuSans-30\" x=\"254.492188\"/>\n      </g>\n     </g>\n    </g>\n    <g id=\"ytick_3\">\n     <g id=\"line2d_9\">\n      <g>\n       <use xlink:href=\"#m8776e47b22\" x=\"52.375\" y=\"163.843991\" style=\"stroke: #000000; stroke-width: 0.8\"/>\n      </g>\n     </g>\n     <g id=\"text_9\">\n      <!-- 100000 -->\n      <g transform=\"translate(7.2 167.64321)scale(0.1 -0.1)\">\n       <use xlink:href=\"#DejaVuSans-31\"/>\n       <use xlink:href=\"#DejaVuSans-30\" x=\"63.623047\"/>\n       <use xlink:href=\"#DejaVuSans-30\" x=\"127.246094\"/>\n       <use xlink:href=\"#DejaVuSans-30\" x=\"190.869141\"/>\n       <use xlink:href=\"#DejaVuSans-30\" x=\"254.492188\"/>\n       <use xlink:href=\"#DejaVuSans-30\" x=\"318.115234\"/>\n      </g>\n     </g>\n    </g>\n    <g id=\"ytick_4\">\n     <g id=\"line2d_10\">\n      <g>\n       <use xlink:href=\"#m8776e47b22\" x=\"52.375\" y=\"133.275037\" style=\"stroke: #000000; stroke-width: 0.8\"/>\n      </g>\n     </g>\n     <g id=\"text_10\">\n      <!-- 150000 -->\n      <g transform=\"translate(7.2 137.074256)scale(0.1 -0.1)\">\n       <use xlink:href=\"#DejaVuSans-31\"/>\n       <use xlink:href=\"#DejaVuSans-35\" x=\"63.623047\"/>\n       <use xlink:href=\"#DejaVuSans-30\" x=\"127.246094\"/>\n       <use xlink:href=\"#DejaVuSans-30\" x=\"190.869141\"/>\n       <use xlink:href=\"#DejaVuSans-30\" x=\"254.492188\"/>\n       <use xlink:href=\"#DejaVuSans-30\" x=\"318.115234\"/>\n      </g>\n     </g>\n    </g>\n    <g id=\"ytick_5\">\n     <g id=\"line2d_11\">\n      <g>\n       <use xlink:href=\"#m8776e47b22\" x=\"52.375\" y=\"102.706082\" style=\"stroke: #000000; stroke-width: 0.8\"/>\n      </g>\n     </g>\n     <g id=\"text_11\">\n      <!-- 200000 -->\n      <g transform=\"translate(7.2 106.505301)scale(0.1 -0.1)\">\n       <use xlink:href=\"#DejaVuSans-32\"/>\n       <use xlink:href=\"#DejaVuSans-30\" x=\"63.623047\"/>\n       <use xlink:href=\"#DejaVuSans-30\" x=\"127.246094\"/>\n       <use xlink:href=\"#DejaVuSans-30\" x=\"190.869141\"/>\n       <use xlink:href=\"#DejaVuSans-30\" x=\"254.492188\"/>\n       <use xlink:href=\"#DejaVuSans-30\" x=\"318.115234\"/>\n      </g>\n     </g>\n    </g>\n    <g id=\"ytick_6\">\n     <g id=\"line2d_12\">\n      <g>\n       <use xlink:href=\"#m8776e47b22\" x=\"52.375\" y=\"72.137128\" style=\"stroke: #000000; stroke-width: 0.8\"/>\n      </g>\n     </g>\n     <g id=\"text_12\">\n      <!-- 250000 -->\n      <g transform=\"translate(7.2 75.936347)scale(0.1 -0.1)\">\n       <use xlink:href=\"#DejaVuSans-32\"/>\n       <use xlink:href=\"#DejaVuSans-35\" x=\"63.623047\"/>\n       <use xlink:href=\"#DejaVuSans-30\" x=\"127.246094\"/>\n       <use xlink:href=\"#DejaVuSans-30\" x=\"190.869141\"/>\n       <use xlink:href=\"#DejaVuSans-30\" x=\"254.492188\"/>\n       <use xlink:href=\"#DejaVuSans-30\" x=\"318.115234\"/>\n      </g>\n     </g>\n    </g>\n    <g id=\"ytick_7\">\n     <g id=\"line2d_13\">\n      <g>\n       <use xlink:href=\"#m8776e47b22\" x=\"52.375\" y=\"41.568173\" style=\"stroke: #000000; stroke-width: 0.8\"/>\n      </g>\n     </g>\n     <g id=\"text_13\">\n      <!-- 300000 -->\n      <g transform=\"translate(7.2 45.367392)scale(0.1 -0.1)\">\n       <use xlink:href=\"#DejaVuSans-33\"/>\n       <use xlink:href=\"#DejaVuSans-30\" x=\"63.623047\"/>\n       <use xlink:href=\"#DejaVuSans-30\" x=\"127.246094\"/>\n       <use xlink:href=\"#DejaVuSans-30\" x=\"190.869141\"/>\n       <use xlink:href=\"#DejaVuSans-30\" x=\"254.492188\"/>\n       <use xlink:href=\"#DejaVuSans-30\" x=\"318.115234\"/>\n      </g>\n     </g>\n    </g>\n    <g id=\"ytick_8\">\n     <g id=\"line2d_14\">\n      <g>\n       <use xlink:href=\"#m8776e47b22\" x=\"52.375\" y=\"10.999219\" style=\"stroke: #000000; stroke-width: 0.8\"/>\n      </g>\n     </g>\n     <g id=\"text_14\">\n      <!-- 350000 -->\n      <g transform=\"translate(7.2 14.798437)scale(0.1 -0.1)\">\n       <use xlink:href=\"#DejaVuSans-33\"/>\n       <use xlink:href=\"#DejaVuSans-35\" x=\"63.623047\"/>\n       <use xlink:href=\"#DejaVuSans-30\" x=\"127.246094\"/>\n       <use xlink:href=\"#DejaVuSans-30\" x=\"190.869141\"/>\n       <use xlink:href=\"#DejaVuSans-30\" x=\"254.492188\"/>\n       <use xlink:href=\"#DejaVuSans-30\" x=\"318.115234\"/>\n      </g>\n     </g>\n    </g>\n   </g>\n   <g id=\"patch_13\">\n    <path d=\"M 52.375 224.981901 \nL 52.375 7.541901 \n\" style=\"fill: none; stroke: #000000; stroke-width: 0.8; stroke-linejoin: miter; stroke-linecap: square\"/>\n   </g>\n   <g id=\"patch_14\">\n    <path d=\"M 387.175 224.981901 \nL 387.175 7.541901 \n\" style=\"fill: none; stroke: #000000; stroke-width: 0.8; stroke-linejoin: miter; stroke-linecap: square\"/>\n   </g>\n   <g id=\"patch_15\">\n    <path d=\"M 52.375 224.981901 \nL 387.175 224.981901 \n\" style=\"fill: none; stroke: #000000; stroke-width: 0.8; stroke-linejoin: miter; stroke-linecap: square\"/>\n   </g>\n   <g id=\"patch_16\">\n    <path d=\"M 52.375 7.541901 \nL 387.175 7.541901 \n\" style=\"fill: none; stroke: #000000; stroke-width: 0.8; stroke-linejoin: miter; stroke-linecap: square\"/>\n   </g>\n  </g>\n </g>\n <defs>\n  <clipPath id=\"pf86dfc2dd0\">\n   <rect x=\"52.375\" y=\"7.541901\" width=\"334.8\" height=\"217.44\"/>\n  </clipPath>\n </defs>\n</svg>\n",
                        "text/plain": [
                            "<Figure size 432x288 with 1 Axes>"
                        ]
                    },
                    "metadata": {
                        "needs_background": "light"
                    }
                }
            ],
            "metadata": {}
        },
        {
            "cell_type": "code",
            "execution_count": 6,
            "source": [
                "poverty_line = 20000\n",
                "num_below_poverty_line = np.sum(data < poverty_line)\n",
                "total_households = len(data)\n",
                "share_below_poverty_line = num_below_poverty_line / total_households\n",
                "\n",
                "share_below_poverty_line_rounded = round(share_below_poverty_line, 4)\n",
                "print( share_below_poverty_line_rounded)\n"
            ],
            "outputs": [
                {
                    "output_type": "stream",
                    "name": "stdout",
                    "text": [
                        "0.1471\n"
                    ]
                }
            ],
            "metadata": {}
        },
        {
            "cell_type": "code",
            "execution_count": 7,
            "source": [
                "from ineqpy.inequality import gini"
            ],
            "outputs": [],
            "metadata": {}
        },
        {
            "cell_type": "code",
            "execution_count": 8,
            "source": [
                "x = gini(data)\n",
                "print(round(x, 4))"
            ],
            "outputs": [
                {
                    "output_type": "stream",
                    "name": "stdout",
                    "text": [
                        "0.4811\n"
                    ]
                }
            ],
            "metadata": {}
        },
        {
            "cell_type": "code",
            "execution_count": 9,
            "source": [
                "beakup = data.copy()\n",
                "beakup[beakup < 40000] += 5000\n",
                "beakup"
            ],
            "outputs": [
                {
                    "output_type": "execute_result",
                    "data": {
                        "text/plain": [
                            "array([ 53308., 102050., 192994., ..., 407460.,  24856., 154754.])"
                        ]
                    },
                    "metadata": {},
                    "execution_count": 9
                }
            ],
            "metadata": {}
        },
        {
            "cell_type": "code",
            "execution_count": 10,
            "source": [
                "print(round(gini(beakup), 4))"
            ],
            "outputs": [
                {
                    "output_type": "stream",
                    "name": "stdout",
                    "text": [
                        "0.4602\n"
                    ]
                }
            ],
            "metadata": {}
        },
        {
            "cell_type": "code",
            "execution_count": 11,
            "source": [
                "beakup1 = data.copy()\n",
                "beakup1[beakup1 < 30000] += 7000\n",
                "beakup1"
            ],
            "outputs": [
                {
                    "output_type": "execute_result",
                    "data": {
                        "text/plain": [
                            "array([ 53308., 102050., 192994., ..., 407460.,  26856., 154754.])"
                        ]
                    },
                    "metadata": {},
                    "execution_count": 11
                }
            ],
            "metadata": {}
        },
        {
            "cell_type": "code",
            "execution_count": 12,
            "source": [
                "print(round(gini(beakup1), 4))"
            ],
            "outputs": [
                {
                    "output_type": "stream",
                    "name": "stdout",
                    "text": [
                        "0.4583\n"
                    ]
                }
            ],
            "metadata": {}
        },
        {
            "cell_type": "code",
            "execution_count": 13,
            "source": [
                "beakup2 = data.copy()\n",
                "x = (beakup2[beakup2 > 250000] * (5/100))\n",
                "beakup2[beakup2 > 250000] -= (beakup2[beakup2 > 250000] * (5/100))\n",
                "somme = np.sum(x)\n",
                "print(round(somme, 2))"
            ],
            "outputs": [
                {
                    "output_type": "stream",
                    "name": "stdout",
                    "text": [
                        "929623340.85\n"
                    ]
                }
            ],
            "metadata": {}
        },
        {
            "cell_type": "code",
            "execution_count": 14,
            "source": [
                "print(round(gini(beakup2), 4))"
            ],
            "outputs": [
                {
                    "output_type": "stream",
                    "name": "stdout",
                    "text": [
                        "0.4756\n"
                    ]
                }
            ],
            "metadata": {}
        },
        {
            "cell_type": "code",
            "execution_count": 15,
            "source": [
                "revenue_per_person = somme / np.count_nonzero(beakup2[beakup2 < 30000])\n",
                "print(round(revenue_per_person, 1))"
            ],
            "outputs": [
                {
                    "output_type": "stream",
                    "name": "stdout",
                    "text": [
                        "4467.5\n"
                    ]
                }
            ],
            "metadata": {}
        },
        {
            "cell_type": "code",
            "execution_count": 25,
            "source": [
                "policy_d_income = data.copy()\n",
                "revenue_d = somme / np.count_nonzero(policy_d_income < 30000)\n",
                "policy_d_income[policy_d_income > 250000] *= 0.95\n",
                "policy_d_income[policy_d_income < 30000] += revenue_d"
            ],
            "outputs": [],
            "metadata": {}
        },
        {
            "cell_type": "code",
            "execution_count": 26,
            "source": [
                "print(round(gini(policy_d_income), 4))"
            ],
            "outputs": [
                {
                    "output_type": "stream",
                    "name": "stdout",
                    "text": [
                        "0.4617\n"
                    ]
                }
            ],
            "metadata": {}
        },
        {
            "cell_type": "code",
            "execution_count": 30,
            "source": [
                "policy_e_income = data.copy()\n",
                "revenue_e = somme / np.count_nonzero(policy_e_income[policy_e_income < 40000])\n",
                "policy_e_income[policy_e_income > 250000] *= 0.95\n",
                "policy_e_income[policy_e_income < 40000] += revenue_e"
            ],
            "outputs": [],
            "metadata": {}
        },
        {
            "cell_type": "code",
            "execution_count": 31,
            "source": [
                "print(round(gini(policy_e_income), 4))"
            ],
            "outputs": [
                {
                    "output_type": "stream",
                    "name": "stdout",
                    "text": [
                        "0.4621\n"
                    ]
                }
            ],
            "metadata": {}
        }
    ],
    "metadata": {
        "kernelspec": {
            "name": "python3",
            "display_name": "Python 3.9.12 64-bit ('base': conda)"
        },
        "language_info": {
            "codemirror_mode": {
                "name": "ipython",
                "version": 3
            },
            "file_extension": ".py",
            "mimetype": "text/x-python",
            "name": "python",
            "nbconvert_exporter": "python",
            "pygments_lexer": "ipython3",
            "version": "3.9.12"
        },
        "orig_nbformat": 4,
        "vscode": {
            "interpreter": {
                "hash": "718fed28bf9f8c7851519acf2fb923cd655120b36de3b67253eeb0428bd33d2d"
            }
        },
        "interpreter": {
            "hash": "4b1666d24beef1f2cf032edae7ba7886b51d32e24219515f10ba647092308838"
        }
    },
    "nbformat": 4,
    "nbformat_minor": 2
}